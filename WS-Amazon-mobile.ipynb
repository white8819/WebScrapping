{
 "cells": [
  {
   "cell_type": "code",
   "execution_count": 13,
   "metadata": {},
   "outputs": [],
   "source": [
    "#importing libraries\n",
    "import pandas as pd\n",
    "import requests\n",
    "from bs4 import BeautifulSoup\n",
    "import numpy as np\n",
    "from tqdm import tqdm_notebook as tqdm\n",
    "import re"
   ]
  },
  {
   "cell_type": "code",
   "execution_count": 14,
   "metadata": {},
   "outputs": [
    {
     "name": "stderr",
     "output_type": "stream",
     "text": [
      "C:\\Users\\DC\\anaconda3\\lib\\site-packages\\ipykernel_launcher.py:2: TqdmDeprecationWarning: This function will be removed in tqdm==5.0.0\n",
      "Please use `tqdm.notebook.tqdm` instead of `tqdm.tqdm_notebook`\n",
      "  \n"
     ]
    },
    {
     "data": {
      "application/vnd.jupyter.widget-view+json": {
       "model_id": "e1dc66a9851b41409f76c66c040b5430",
       "version_major": 2,
       "version_minor": 0
      },
      "text/plain": [
       "HBox(children=(FloatProgress(value=0.0, max=61.0), HTML(value='')))"
      ]
     },
     "metadata": {},
     "output_type": "display_data"
    },
    {
     "name": "stdout",
     "output_type": "stream",
     "text": [
      "\n"
     ]
    }
   ],
   "source": [
    "final_df = pd.DataFrame()\n",
    "for i in tqdm(range(61)):\n",
    "    try:\n",
    "        u = f'https://www.amazon.in/s?k=mobile&i=electronics&rh=n%3A976419031%2Cp_36%3A1318506031&dc&page={i}&qid=1603367829&rnid=1318502031&ref=sr_pg_{i}'\n",
    "        r = requests.get(u)\n",
    "        soup = BeautifulSoup(r.text,'html.parser')\n",
    "\n",
    "        name = [i.text for i in soup.findAll('span', {'class':['a-size-medium a-color-base', 'a-text-normal']})][:-1]\n",
    "        price = [i.text for i in soup.findAll('span', {'class':['a-price-whole']})]\n",
    "\n",
    "        image = []\n",
    "        img_urls = soup.findAll('div', {'class':['a-section', 'aok-relative', 's-image-fixed-height']})\n",
    "        for url in img_urls:\n",
    "            try:\n",
    "                image.append(url.find('img')['src'])\n",
    "            except:\n",
    "                pass\n",
    "\n",
    "        image = list(set(image))\n",
    "        star = [i.text for i in soup.find_all('i', attrs={'class': re.compile('^a-icon a-icon-star-small.*')})]\n",
    "        th = min(len(name), len(price), len(image), len(star))\n",
    "        \n",
    "        df = pd.DataFrame()\n",
    "        df['name'] = name[:th]\n",
    "        df['price'] = price[:th]\n",
    "        df['url'] = image[:th]\n",
    "        df['star'] = star[:th]\n",
    "        \n",
    "        final_df = pd.concat([final_df, df]).reset_index(drop=True)\n",
    "        \n",
    "    except Exception as e:\n",
    "        print(e)\n",
    "        pass"
   ]
  },
  {
   "cell_type": "code",
   "execution_count": 15,
   "metadata": {},
   "outputs": [
    {
     "data": {
      "text/html": [
       "<div>\n",
       "<style scoped>\n",
       "    .dataframe tbody tr th:only-of-type {\n",
       "        vertical-align: middle;\n",
       "    }\n",
       "\n",
       "    .dataframe tbody tr th {\n",
       "        vertical-align: top;\n",
       "    }\n",
       "\n",
       "    .dataframe thead th {\n",
       "        text-align: right;\n",
       "    }\n",
       "</style>\n",
       "<table border=\"1\" class=\"dataframe\">\n",
       "  <thead>\n",
       "    <tr style=\"text-align: right;\">\n",
       "      <th></th>\n",
       "      <th>name</th>\n",
       "      <th>price</th>\n",
       "      <th>url</th>\n",
       "      <th>star</th>\n",
       "    </tr>\n",
       "  </thead>\n",
       "  <tbody>\n",
       "    <tr>\n",
       "      <th>0</th>\n",
       "      <td>Samsung Galaxy M21 (Midnight Blue, 4GB RAM, 64...</td>\n",
       "      <td>12,499</td>\n",
       "      <td>https://m.media-amazon.com/images/I/71OxJeyywS...</td>\n",
       "      <td>4.2 out of 5 stars</td>\n",
       "    </tr>\n",
       "    <tr>\n",
       "      <th>1</th>\n",
       "      <td>Samsung Galaxy M31 (Ocean Blue, 6GB RAM, 128GB...</td>\n",
       "      <td>16,499</td>\n",
       "      <td>https://m.media-amazon.com/images/I/71-nSoWl8i...</td>\n",
       "      <td>4.2 out of 5 stars</td>\n",
       "    </tr>\n",
       "    <tr>\n",
       "      <th>2</th>\n",
       "      <td>Samsung Galaxy M31s (Mirage Blue, 6GB RAM, 128...</td>\n",
       "      <td>18,499</td>\n",
       "      <td>https://m.media-amazon.com/images/I/81pzsRpE5G...</td>\n",
       "      <td>4.3 out of 5 stars</td>\n",
       "    </tr>\n",
       "    <tr>\n",
       "      <th>3</th>\n",
       "      <td>OPPO A5 2020 (Dazzling White, 4GB RAM, 64GB St...</td>\n",
       "      <td>11,990</td>\n",
       "      <td>https://m.media-amazon.com/images/I/41DqcluhLA...</td>\n",
       "      <td>4.1 out of 5 stars</td>\n",
       "    </tr>\n",
       "    <tr>\n",
       "      <th>4</th>\n",
       "      <td>Redmi Note 9 Pro (Interstellar Black, 4GB RAM,...</td>\n",
       "      <td>12,999</td>\n",
       "      <td>https://m.media-amazon.com/images/I/61KfjV+40Q...</td>\n",
       "      <td>4.2 out of 5 stars</td>\n",
       "    </tr>\n",
       "    <tr>\n",
       "      <th>...</th>\n",
       "      <td>...</td>\n",
       "      <td>...</td>\n",
       "      <td>...</td>\n",
       "      <td>...</td>\n",
       "    </tr>\n",
       "    <tr>\n",
       "      <th>406</th>\n",
       "      <td>CyntexiaⓇ Computer Desktop Pc Intel Core i5-24...</td>\n",
       "      <td>10,769</td>\n",
       "      <td>https://m.media-amazon.com/images/I/51S3yf4e4V...</td>\n",
       "      <td>4.5 out of 5 stars</td>\n",
       "    </tr>\n",
       "    <tr>\n",
       "      <th>407</th>\n",
       "      <td>SHIVANSH Alcatel 3T10 16 GB 10 inch with Wi-Fi...</td>\n",
       "      <td>19,600</td>\n",
       "      <td>https://m.media-amazon.com/images/I/61CphukNW0...</td>\n",
       "      <td>4.7 out of 5 stars</td>\n",
       "    </tr>\n",
       "    <tr>\n",
       "      <th>408</th>\n",
       "      <td>Everycom X9 Home &amp; Business Native 720p HD wit...</td>\n",
       "      <td>15,999</td>\n",
       "      <td>https://m.media-amazon.com/images/I/716oQupUaB...</td>\n",
       "      <td>4.5 out of 5 stars</td>\n",
       "    </tr>\n",
       "    <tr>\n",
       "      <th>409</th>\n",
       "      <td>SanDisk Extreme Pro Micro SDXC UHS-I U3 A2 V30...</td>\n",
       "      <td>14,049</td>\n",
       "      <td>https://m.media-amazon.com/images/I/31xWW1ejx9...</td>\n",
       "      <td>3.4 out of 5 stars</td>\n",
       "    </tr>\n",
       "    <tr>\n",
       "      <th>410</th>\n",
       "      <td>M6 Smart Watch TWS Earbuds MP3 Player 3-in-1 S...</td>\n",
       "      <td>12,169</td>\n",
       "      <td>https://m.media-amazon.com/images/I/613Cxyiv1o...</td>\n",
       "      <td>4.5 out of 5 stars</td>\n",
       "    </tr>\n",
       "  </tbody>\n",
       "</table>\n",
       "<p>411 rows × 4 columns</p>\n",
       "</div>"
      ],
      "text/plain": [
       "                                                  name   price  \\\n",
       "0    Samsung Galaxy M21 (Midnight Blue, 4GB RAM, 64...  12,499   \n",
       "1    Samsung Galaxy M31 (Ocean Blue, 6GB RAM, 128GB...  16,499   \n",
       "2    Samsung Galaxy M31s (Mirage Blue, 6GB RAM, 128...  18,499   \n",
       "3    OPPO A5 2020 (Dazzling White, 4GB RAM, 64GB St...  11,990   \n",
       "4    Redmi Note 9 Pro (Interstellar Black, 4GB RAM,...  12,999   \n",
       "..                                                 ...     ...   \n",
       "406  CyntexiaⓇ Computer Desktop Pc Intel Core i5-24...  10,769   \n",
       "407  SHIVANSH Alcatel 3T10 16 GB 10 inch with Wi-Fi...  19,600   \n",
       "408  Everycom X9 Home & Business Native 720p HD wit...  15,999   \n",
       "409  SanDisk Extreme Pro Micro SDXC UHS-I U3 A2 V30...  14,049   \n",
       "410  M6 Smart Watch TWS Earbuds MP3 Player 3-in-1 S...  12,169   \n",
       "\n",
       "                                                   url                star  \n",
       "0    https://m.media-amazon.com/images/I/71OxJeyywS...  4.2 out of 5 stars  \n",
       "1    https://m.media-amazon.com/images/I/71-nSoWl8i...  4.2 out of 5 stars  \n",
       "2    https://m.media-amazon.com/images/I/81pzsRpE5G...  4.3 out of 5 stars  \n",
       "3    https://m.media-amazon.com/images/I/41DqcluhLA...  4.1 out of 5 stars  \n",
       "4    https://m.media-amazon.com/images/I/61KfjV+40Q...  4.2 out of 5 stars  \n",
       "..                                                 ...                 ...  \n",
       "406  https://m.media-amazon.com/images/I/51S3yf4e4V...  4.5 out of 5 stars  \n",
       "407  https://m.media-amazon.com/images/I/61CphukNW0...  4.7 out of 5 stars  \n",
       "408  https://m.media-amazon.com/images/I/716oQupUaB...  4.5 out of 5 stars  \n",
       "409  https://m.media-amazon.com/images/I/31xWW1ejx9...  3.4 out of 5 stars  \n",
       "410  https://m.media-amazon.com/images/I/613Cxyiv1o...  4.5 out of 5 stars  \n",
       "\n",
       "[411 rows x 4 columns]"
      ]
     },
     "execution_count": 15,
     "metadata": {},
     "output_type": "execute_result"
    }
   ],
   "source": [
    "final_df"
   ]
  },
  {
   "cell_type": "code",
   "execution_count": 17,
   "metadata": {},
   "outputs": [],
   "source": [
    "final_df.to_csv('Amazon-mobile.csv',index=False,encoding='utf-8')"
   ]
  },
  {
   "cell_type": "code",
   "execution_count": null,
   "metadata": {},
   "outputs": [],
   "source": []
  }
 ],
 "metadata": {
  "kernelspec": {
   "display_name": "Python 3",
   "language": "python",
   "name": "python3"
  },
  "language_info": {
   "codemirror_mode": {
    "name": "ipython",
    "version": 3
   },
   "file_extension": ".py",
   "mimetype": "text/x-python",
   "name": "python",
   "nbconvert_exporter": "python",
   "pygments_lexer": "ipython3",
   "version": "3.7.6"
  }
 },
 "nbformat": 4,
 "nbformat_minor": 4
}
