{
 "cells": [
  {
   "cell_type": "code",
   "execution_count": 7,
   "metadata": {},
   "outputs": [],
   "source": [
    "#Importing librabries\n",
    "import pandas as pd\n",
    "import requests\n",
    "from bs4 import BeautifulSoup"
   ]
  },
  {
   "cell_type": "code",
   "execution_count": 8,
   "metadata": {},
   "outputs": [],
   "source": [
    "#Reading page\n",
    "r=requests.get('https://bookpage.com/')"
   ]
  },
  {
   "cell_type": "code",
   "execution_count": 9,
   "metadata": {},
   "outputs": [],
   "source": [
    "#Parsing\n",
    "soup=BeautifulSoup(r.text,'html.parser')"
   ]
  },
  {
   "cell_type": "code",
   "execution_count": 10,
   "metadata": {},
   "outputs": [
    {
     "data": {
      "text/html": [
       "<div>\n",
       "<style scoped>\n",
       "    .dataframe tbody tr th:only-of-type {\n",
       "        vertical-align: middle;\n",
       "    }\n",
       "\n",
       "    .dataframe tbody tr th {\n",
       "        vertical-align: top;\n",
       "    }\n",
       "\n",
       "    .dataframe thead th {\n",
       "        text-align: right;\n",
       "    }\n",
       "</style>\n",
       "<table border=\"1\" class=\"dataframe\">\n",
       "  <thead>\n",
       "    <tr style=\"text-align: right;\">\n",
       "      <th></th>\n",
       "      <th>title</th>\n",
       "      <th>author</th>\n",
       "      <th>genre</th>\n",
       "      <th>reviews</th>\n",
       "    </tr>\n",
       "  </thead>\n",
       "  <tbody>\n",
       "    <tr>\n",
       "      <th>0</th>\n",
       "      <td>Neighbors</td>\n",
       "      <td>Starcrossed</td>\n",
       "      <td>Children's, Children's Picture Book</td>\n",
       "      <td>Tips for Teachers is a monthly column in which...</td>\n",
       "    </tr>\n",
       "    <tr>\n",
       "      <th>1</th>\n",
       "      <td>The All-Together Quilt</td>\n",
       "      <td>Our Little Kitchen</td>\n",
       "      <td>Children's Picture Book, Children's</td>\n",
       "      <td>Two picture books inspired by real-life commun...</td>\n",
       "    </tr>\n",
       "    <tr>\n",
       "      <th>2</th>\n",
       "      <td>The Kidnapping Club</td>\n",
       "      <td>Jonathan Daniel Wells</td>\n",
       "      <td>Nonfiction, American History, African American...</td>\n",
       "      <td>Urbane and bustling, New York City is often co...</td>\n",
       "    </tr>\n",
       "    <tr>\n",
       "      <th>3</th>\n",
       "      <td>Cobble Hill</td>\n",
       "      <td>Cecily von Ziegesar</td>\n",
       "      <td>Fiction, Popular Fiction</td>\n",
       "      <td>When a person chooses a new home, it’s rarely ...</td>\n",
       "    </tr>\n",
       "    <tr>\n",
       "      <th>4</th>\n",
       "      <td>Shadows of the Short Days</td>\n",
       "      <td>Alexander Dan Vilhjálmsson</td>\n",
       "      <td>Science Fiction &amp; Fantasy, Fantasy</td>\n",
       "      <td>Being in a relationship is tough, even without...</td>\n",
       "    </tr>\n",
       "    <tr>\n",
       "      <th>5</th>\n",
       "      <td>A Walk Around the Block</td>\n",
       "      <td>Spike Carlsen</td>\n",
       "      <td>Nonfiction, Science &amp; Nature</td>\n",
       "      <td>In these unprecedented days of the COVID-19 pa...</td>\n",
       "    </tr>\n",
       "  </tbody>\n",
       "</table>\n",
       "</div>"
      ],
      "text/plain": [
       "                       title                      author  \\\n",
       "0                  Neighbors                 Starcrossed   \n",
       "1     The All-Together Quilt          Our Little Kitchen   \n",
       "2        The Kidnapping Club       Jonathan Daniel Wells   \n",
       "3                Cobble Hill         Cecily von Ziegesar   \n",
       "4  Shadows of the Short Days  Alexander Dan Vilhjálmsson   \n",
       "5    A Walk Around the Block               Spike Carlsen   \n",
       "\n",
       "                                               genre  \\\n",
       "0                Children's, Children's Picture Book   \n",
       "1                Children's Picture Book, Children's   \n",
       "2  Nonfiction, American History, African American...   \n",
       "3                           Fiction, Popular Fiction   \n",
       "4                 Science Fiction & Fantasy, Fantasy   \n",
       "5                       Nonfiction, Science & Nature   \n",
       "\n",
       "                                             reviews  \n",
       "0  Tips for Teachers is a monthly column in which...  \n",
       "1  Two picture books inspired by real-life commun...  \n",
       "2  Urbane and bustling, New York City is often co...  \n",
       "3  When a person chooses a new home, it’s rarely ...  \n",
       "4  Being in a relationship is tough, even without...  \n",
       "5  In these unprecedented days of the COVID-19 pa...  "
      ]
     },
     "execution_count": 10,
     "metadata": {},
     "output_type": "execute_result"
    }
   ],
   "source": [
    "#Extracting values,collecting records, dataframe creation\n",
    "review_links = [r'https://bookpage.com'+i.find('a')['href'] for i in soup.find_all('div', attrs={'class':'read-full'})]\n",
    "\n",
    "rows = []\n",
    "\n",
    "for review_link in review_links:\n",
    "    r = requests.get(review_link)\n",
    "    soup = BeautifulSoup(r.text,'html.parser')\n",
    "\n",
    "    review = ''\n",
    "    rev = soup.find_all('div', attrs={'class':'article-body'})\n",
    "    for p in rev:\n",
    "        review = review + p.find('p').text.replace('\\n', ' ')\n",
    "\n",
    "    title_author = []\n",
    "    details = soup.find_all('div', attrs={'class':'book-data'})\n",
    "\n",
    "    for t in details:\n",
    "        try:\n",
    "            title_author.append(t.find('h4').text.replace('\\n', ''))\n",
    "        except:\n",
    "            pass\n",
    "\n",
    "    author = title_author[0]\n",
    "    title = title_author[1]\n",
    "    genre = [i.text.replace('\\n' ,'').replace(' /', ',') for i in soup.find_all('p', attrs={'class':'genre-links'})][0]\n",
    "\n",
    "    rows.append([title, author, genre, review[1:-1]])\n",
    "\n",
    "df = pd.DataFrame(rows, columns=['title', 'author', 'genre', 'reviews'])\n",
    "df['title'] = df.title.str.replace('★ ', '')\n",
    "df['author'] = df.author.str.replace('★ ', '')\n",
    "df"
   ]
  },
  {
   "cell_type": "code",
   "execution_count": 11,
   "metadata": {},
   "outputs": [],
   "source": [
    "#saving to csv\n",
    "df.to_csv('Book-reviews.csv',index=False,encoding='utf-8')"
   ]
  },
  {
   "cell_type": "code",
   "execution_count": null,
   "metadata": {},
   "outputs": [],
   "source": []
  }
 ],
 "metadata": {
  "kernelspec": {
   "display_name": "Python 3",
   "language": "python",
   "name": "python3"
  },
  "language_info": {
   "codemirror_mode": {
    "name": "ipython",
    "version": 3
   },
   "file_extension": ".py",
   "mimetype": "text/x-python",
   "name": "python",
   "nbconvert_exporter": "python",
   "pygments_lexer": "ipython3",
   "version": "3.7.6"
  }
 },
 "nbformat": 4,
 "nbformat_minor": 4
}
